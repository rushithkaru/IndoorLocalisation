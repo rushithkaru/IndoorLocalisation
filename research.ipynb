{
  "nbformat": 4,
  "nbformat_minor": 0,
  "metadata": {
    "colab": {
      "name": "research.ipynb",
      "provenance": [],
      "collapsed_sections": [],
      "authorship_tag": "ABX9TyPAUnFD2KRE+KoUsalxQwqM",
      "include_colab_link": true
    },
    "kernelspec": {
      "name": "python3",
      "display_name": "Python 3"
    },
    "language_info": {
      "name": "python"
    }
  },
  "cells": [
    {
      "cell_type": "markdown",
      "metadata": {
        "id": "view-in-github",
        "colab_type": "text"
      },
      "source": [
        "<a href=\"https://colab.research.google.com/github/rushithkaru/IndoorLocalisation/blob/main/research.ipynb\" target=\"_parent\"><img src=\"https://colab.research.google.com/assets/colab-badge.svg\" alt=\"Open In Colab\"/></a>"
      ]
    },
    {
      "cell_type": "code",
      "metadata": {
        "id": "duIXjCN50Mag"
      },
      "source": [
        "from google.colab.patches import cv2_imshow\n",
        "import tensorflow as tf\n",
        "from tensorflow import keras\n",
        "from tensorflow.keras import layers\n",
        "import numpy as np\n",
        "import matplotlib.pyplot as plt\n",
        "import cv2\n",
        "from matplotlib import pyplot as plt\n",
        "import os\n",
        "import pandas as pd\n",
        "import math"
      ],
      "execution_count": null,
      "outputs": []
    },
    {
      "cell_type": "code",
      "metadata": {
        "colab": {
          "base_uri": "https://localhost:8080/"
        },
        "id": "5R_YJsq_UbbI",
        "outputId": "373d22c5-d8b5-44e9-d301-d2d1c3df3456"
      },
      "source": [
        "!pip install opencv-contrib-python==4.4.0.44"
      ],
      "execution_count": null,
      "outputs": [
        {
          "output_type": "stream",
          "name": "stdout",
          "text": [
            "Collecting opencv-contrib-python==4.4.0.44\n",
            "  Downloading opencv_contrib_python-4.4.0.44-cp37-cp37m-manylinux2014_x86_64.whl (55.7 MB)\n",
            "\u001b[K     |████████████████████████████████| 55.7 MB 45 kB/s \n",
            "\u001b[?25hRequirement already satisfied: numpy>=1.14.5 in /usr/local/lib/python3.7/dist-packages (from opencv-contrib-python==4.4.0.44) (1.19.5)\n",
            "Installing collected packages: opencv-contrib-python\n",
            "  Attempting uninstall: opencv-contrib-python\n",
            "    Found existing installation: opencv-contrib-python 4.1.2.30\n",
            "    Uninstalling opencv-contrib-python-4.1.2.30:\n",
            "      Successfully uninstalled opencv-contrib-python-4.1.2.30\n",
            "Successfully installed opencv-contrib-python-4.4.0.44\n"
          ]
        }
      ]
    },
    {
      "cell_type": "code",
      "metadata": {
        "id": "buFMY0Vx_vuO"
      },
      "source": [
        "sift = cv2.SIFT_create()"
      ],
      "execution_count": null,
      "outputs": []
    },
    {
      "cell_type": "code",
      "metadata": {
        "id": "uwlJdSCv9aMt",
        "colab": {
          "base_uri": "https://localhost:8080/"
        },
        "outputId": "c16a7cfb-d8af-4ebf-cc52-69fb7eb98c8c"
      },
      "source": [
        "# Load the Drive helper and mount\n",
        "from google.colab import drive\n",
        "\n",
        "# This will prompt for authorization.\n",
        "drive.mount('/content/drive')\n",
        "\n"
      ],
      "execution_count": null,
      "outputs": [
        {
          "output_type": "stream",
          "name": "stdout",
          "text": [
            "Mounted at /content/drive\n"
          ]
        }
      ]
    },
    {
      "cell_type": "code",
      "metadata": {
        "id": "XTImV7_MVwH7"
      },
      "source": [
        "path = '/content/drive/MyDrive/CV final assignment/train'\n",
        "array_images_names = os.listdir(path)[0:100]\n",
        "#grab the array of images\n",
        "#array_images = [cv2.imread(os.path.join(path, x),cv2.IMREAD_COLOR) for x in array_images_names]\n",
        "array_images = [\n",
        "                \n",
        "                cv2.resize(cv2.imread(os.path.join(path, x),cv2.IMREAD_COLOR), (340,245)) for x in array_images_names]\n"
      ],
      "execution_count": null,
      "outputs": []
    },
    {
      "cell_type": "code",
      "metadata": {
        "id": "synYq84ab1Q1"
      },
      "source": [
        "path = '/content/drive/MyDrive/CV final assignment/test'\n",
        "array_images_names_test = os.listdir(path)\n",
        "#grab the array of images\n",
        "array_images_test = [\n",
        "                     cv2.resize(cv2.imread(os.path.join(path, x),cv2.IMREAD_COLOR), (100,100)) for x in array_images_names_test]"
      ],
      "execution_count": null,
      "outputs": []
    },
    {
      "cell_type": "code",
      "metadata": {
        "colab": {
          "base_uri": "https://localhost:8080/",
          "height": 419
        },
        "id": "UaJfBzArb23U",
        "outputId": "d5baa8e7-7a2d-4ca9-c666-f1caac314c19"
      },
      "source": [
        "array_image_id = [x[:-4] for x in array_images_names]\n",
        "dict_img = {'images': array_images, 'id':array_image_id}\n",
        "df = pd.DataFrame(dict_img)\n",
        "#df = df.drop(labels=55, axis=0)\n",
        "df"
      ],
      "execution_count": null,
      "outputs": [
        {
          "output_type": "execute_result",
          "data": {
            "text/html": [
              "<div>\n",
              "<style scoped>\n",
              "    .dataframe tbody tr th:only-of-type {\n",
              "        vertical-align: middle;\n",
              "    }\n",
              "\n",
              "    .dataframe tbody tr th {\n",
              "        vertical-align: top;\n",
              "    }\n",
              "\n",
              "    .dataframe thead th {\n",
              "        text-align: right;\n",
              "    }\n",
              "</style>\n",
              "<table border=\"1\" class=\"dataframe\">\n",
              "  <thead>\n",
              "    <tr style=\"text-align: right;\">\n",
              "      <th></th>\n",
              "      <th>images</th>\n",
              "      <th>id</th>\n",
              "    </tr>\n",
              "  </thead>\n",
              "  <tbody>\n",
              "    <tr>\n",
              "      <th>0</th>\n",
              "      <td>[[[45, 90, 111], [45, 90, 111], [45, 90, 111],...</td>\n",
              "      <td>IMG4041_4</td>\n",
              "    </tr>\n",
              "    <tr>\n",
              "      <th>1</th>\n",
              "      <td>[[[80, 123, 126], [80, 123, 126], [79, 122, 12...</td>\n",
              "      <td>IMG4041_5</td>\n",
              "    </tr>\n",
              "    <tr>\n",
              "      <th>2</th>\n",
              "      <td>[[[134, 145, 125], [135, 146, 126], [136, 147,...</td>\n",
              "      <td>IMG4039_1</td>\n",
              "    </tr>\n",
              "    <tr>\n",
              "      <th>3</th>\n",
              "      <td>[[[137, 139, 139], [141, 143, 143], [129, 131,...</td>\n",
              "      <td>IMG4046_2</td>\n",
              "    </tr>\n",
              "    <tr>\n",
              "      <th>4</th>\n",
              "      <td>[[[225, 211, 169], [226, 212, 170], [219, 209,...</td>\n",
              "      <td>IMG4039_5</td>\n",
              "    </tr>\n",
              "    <tr>\n",
              "      <th>...</th>\n",
              "      <td>...</td>\n",
              "      <td>...</td>\n",
              "    </tr>\n",
              "    <tr>\n",
              "      <th>95</th>\n",
              "      <td>[[[181, 156, 146], [181, 156, 146], [181, 156,...</td>\n",
              "      <td>IMG4057_5</td>\n",
              "    </tr>\n",
              "    <tr>\n",
              "      <th>96</th>\n",
              "      <td>[[[206, 203, 198], [206, 203, 198], [206, 203,...</td>\n",
              "      <td>IMG4058_1</td>\n",
              "    </tr>\n",
              "    <tr>\n",
              "      <th>97</th>\n",
              "      <td>[[[145, 137, 130], [146, 138, 131], [147, 139,...</td>\n",
              "      <td>IMG4060_4</td>\n",
              "    </tr>\n",
              "    <tr>\n",
              "      <th>98</th>\n",
              "      <td>[[[57, 93, 103], [58, 94, 104], [58, 94, 104],...</td>\n",
              "      <td>IMG4055_5</td>\n",
              "    </tr>\n",
              "    <tr>\n",
              "      <th>99</th>\n",
              "      <td>[[[110, 149, 158], [110, 149, 158], [110, 149,...</td>\n",
              "      <td>IMG4064_5</td>\n",
              "    </tr>\n",
              "  </tbody>\n",
              "</table>\n",
              "<p>100 rows × 2 columns</p>\n",
              "</div>"
            ],
            "text/plain": [
              "                                               images         id\n",
              "0   [[[45, 90, 111], [45, 90, 111], [45, 90, 111],...  IMG4041_4\n",
              "1   [[[80, 123, 126], [80, 123, 126], [79, 122, 12...  IMG4041_5\n",
              "2   [[[134, 145, 125], [135, 146, 126], [136, 147,...  IMG4039_1\n",
              "3   [[[137, 139, 139], [141, 143, 143], [129, 131,...  IMG4046_2\n",
              "4   [[[225, 211, 169], [226, 212, 170], [219, 209,...  IMG4039_5\n",
              "..                                                ...        ...\n",
              "95  [[[181, 156, 146], [181, 156, 146], [181, 156,...  IMG4057_5\n",
              "96  [[[206, 203, 198], [206, 203, 198], [206, 203,...  IMG4058_1\n",
              "97  [[[145, 137, 130], [146, 138, 131], [147, 139,...  IMG4060_4\n",
              "98  [[[57, 93, 103], [58, 94, 104], [58, 94, 104],...  IMG4055_5\n",
              "99  [[[110, 149, 158], [110, 149, 158], [110, 149,...  IMG4064_5\n",
              "\n",
              "[100 rows x 2 columns]"
            ]
          },
          "metadata": {},
          "execution_count": 18
        }
      ]
    },
    {
      "cell_type": "code",
      "metadata": {
        "colab": {
          "base_uri": "https://localhost:8080/",
          "height": 419
        },
        "id": "sICC_SN4gDjL",
        "outputId": "69d6a613-6a5c-452b-fb8d-4af3e55b9dc2"
      },
      "source": [
        "array_image_id = [x[:-4] for x in array_images_names_test]\n",
        "dict_img = {'images': array_images_test, 'id':array_image_id}\n",
        "df_test = pd.DataFrame(dict_img)\n",
        "#df = df.drop(labels=55, axis=0)\n",
        "df_test"
      ],
      "execution_count": null,
      "outputs": [
        {
          "output_type": "execute_result",
          "data": {
            "text/html": [
              "<div>\n",
              "<style scoped>\n",
              "    .dataframe tbody tr th:only-of-type {\n",
              "        vertical-align: middle;\n",
              "    }\n",
              "\n",
              "    .dataframe tbody tr th {\n",
              "        vertical-align: top;\n",
              "    }\n",
              "\n",
              "    .dataframe thead th {\n",
              "        text-align: right;\n",
              "    }\n",
              "</style>\n",
              "<table border=\"1\" class=\"dataframe\">\n",
              "  <thead>\n",
              "    <tr style=\"text-align: right;\">\n",
              "      <th></th>\n",
              "      <th>images</th>\n",
              "      <th>id</th>\n",
              "    </tr>\n",
              "  </thead>\n",
              "  <tbody>\n",
              "    <tr>\n",
              "      <th>0</th>\n",
              "      <td>[[[237, 213, 191], [235, 211, 189], [234, 208,...</td>\n",
              "      <td>IMG4486_2</td>\n",
              "    </tr>\n",
              "    <tr>\n",
              "      <th>1</th>\n",
              "      <td>[[[58, 75, 83], [96, 123, 133], [88, 114, 130]...</td>\n",
              "      <td>IMG4475_4</td>\n",
              "    </tr>\n",
              "    <tr>\n",
              "      <th>2</th>\n",
              "      <td>[[[146, 144, 143], [146, 144, 143], [147, 145,...</td>\n",
              "      <td>IMG4473_1</td>\n",
              "    </tr>\n",
              "    <tr>\n",
              "      <th>3</th>\n",
              "      <td>[[[197, 171, 159], [195, 169, 157], [197, 171,...</td>\n",
              "      <td>IMG4497_1</td>\n",
              "    </tr>\n",
              "    <tr>\n",
              "      <th>4</th>\n",
              "      <td>[[[120, 121, 119], [119, 120, 118], [119, 119,...</td>\n",
              "      <td>IMG4472_2</td>\n",
              "    </tr>\n",
              "    <tr>\n",
              "      <th>...</th>\n",
              "      <td>...</td>\n",
              "      <td>...</td>\n",
              "    </tr>\n",
              "    <tr>\n",
              "      <th>1195</th>\n",
              "      <td>[[[59, 95, 105], [60, 96, 106], [57, 96, 105],...</td>\n",
              "      <td>IMG4494_5</td>\n",
              "    </tr>\n",
              "    <tr>\n",
              "      <th>1196</th>\n",
              "      <td>[[[143, 141, 140], [144, 142, 141], [146, 142,...</td>\n",
              "      <td>IMG4491_3</td>\n",
              "    </tr>\n",
              "    <tr>\n",
              "      <th>1197</th>\n",
              "      <td>[[[106, 154, 155], [110, 154, 155], [113, 157,...</td>\n",
              "      <td>IMG4467_4</td>\n",
              "    </tr>\n",
              "    <tr>\n",
              "      <th>1198</th>\n",
              "      <td>[[[58, 63, 63], [52, 57, 56], [43, 50, 56], [4...</td>\n",
              "      <td>IMG4469_4</td>\n",
              "    </tr>\n",
              "    <tr>\n",
              "      <th>1199</th>\n",
              "      <td>[[[159, 157, 156], [159, 157, 156], [159, 157,...</td>\n",
              "      <td>IMG4485_3</td>\n",
              "    </tr>\n",
              "  </tbody>\n",
              "</table>\n",
              "<p>1200 rows × 2 columns</p>\n",
              "</div>"
            ],
            "text/plain": [
              "                                                 images         id\n",
              "0     [[[237, 213, 191], [235, 211, 189], [234, 208,...  IMG4486_2\n",
              "1     [[[58, 75, 83], [96, 123, 133], [88, 114, 130]...  IMG4475_4\n",
              "2     [[[146, 144, 143], [146, 144, 143], [147, 145,...  IMG4473_1\n",
              "3     [[[197, 171, 159], [195, 169, 157], [197, 171,...  IMG4497_1\n",
              "4     [[[120, 121, 119], [119, 120, 118], [119, 119,...  IMG4472_2\n",
              "...                                                 ...        ...\n",
              "1195  [[[59, 95, 105], [60, 96, 106], [57, 96, 105],...  IMG4494_5\n",
              "1196  [[[143, 141, 140], [144, 142, 141], [146, 142,...  IMG4491_3\n",
              "1197  [[[106, 154, 155], [110, 154, 155], [113, 157,...  IMG4467_4\n",
              "1198  [[[58, 63, 63], [52, 57, 56], [43, 50, 56], [4...  IMG4469_4\n",
              "1199  [[[159, 157, 156], [159, 157, 156], [159, 157,...  IMG4485_3\n",
              "\n",
              "[1200 rows x 2 columns]"
            ]
          },
          "metadata": {},
          "execution_count": 7
        }
      ]
    },
    {
      "cell_type": "code",
      "metadata": {
        "colab": {
          "base_uri": "https://localhost:8080/"
        },
        "id": "D_MpAjZsb4tC",
        "outputId": "411da4e0-1f46-4448-fc51-7ce34e197671"
      },
      "source": [
        "df_train = pd.read_csv('/content/drive/MyDrive//CV final assignment/train.csv')\n",
        "df_all = pd.merge(df,df_train, on=\"id\")\n",
        "df_all['x']"
      ],
      "execution_count": null,
      "outputs": [
        {
          "output_type": "execute_result",
          "data": {
            "text/plain": [
              "0       3.419322\n",
              "1       3.419322\n",
              "2      14.419322\n",
              "3    -156.680678\n",
              "4      14.419322\n",
              "         ...    \n",
              "95   -122.680678\n",
              "96     35.119322\n",
              "97     32.219322\n",
              "98     14.819322\n",
              "99     55.719322\n",
              "Name: x, Length: 100, dtype: float64"
            ]
          },
          "metadata": {},
          "execution_count": 19
        }
      ]
    },
    {
      "cell_type": "code",
      "metadata": {
        "colab": {
          "base_uri": "https://localhost:8080/"
        },
        "id": "60hTMnryb-J2",
        "outputId": "2d5e1249-7238-48ac-ad7c-68f5573a807b"
      },
      "source": [
        "x = df_all['x'].to_numpy()\n",
        "x.shape"
      ],
      "execution_count": null,
      "outputs": [
        {
          "output_type": "execute_result",
          "data": {
            "text/plain": [
              "(100,)"
            ]
          },
          "metadata": {},
          "execution_count": 8
        }
      ]
    },
    {
      "cell_type": "code",
      "metadata": {
        "id": "BZv1m1sNcA7_"
      },
      "source": [
        "train_test_boudary = math.ceil(0.98*len(df_all))\n",
        "\n",
        "train = df_all[0:train_test_boudary]\n",
        "test = df_all[train_test_boudary:]\n",
        "#train = df_all\n",
        "#test = df_test\n",
        "\n",
        "x_train = np.array(train['images'].to_list())\n",
        "y_train = train[['x', 'y']].to_numpy()\n",
        "# y_train = np.array(train['x'].to_list())\n",
        "\n",
        "\n",
        "x_test = np.array(test['images'].to_list())\n",
        "#test_names = df_test['id']\n",
        "# y_test = np.array(test['x'].to_list())\n",
        "y_test = test[['x', 'y']].to_numpy()"
      ],
      "execution_count": null,
      "outputs": []
    },
    {
      "cell_type": "code",
      "metadata": {
        "id": "cUCMyNP9b6AS"
      },
      "source": [
        "with open('/content/drive/MyDrive/CV final assignment/Example2.txt', 'w') as writefile:\n",
        "    writefile.write(\"Test file saving\")"
      ],
      "execution_count": null,
      "outputs": []
    },
    {
      "cell_type": "code",
      "metadata": {
        "colab": {
          "base_uri": "https://localhost:8080/",
          "height": 279
        },
        "id": "qwbKibL-cB3z",
        "outputId": "156bf745-6e1a-42df-d765-a0ac4250950e"
      },
      "source": [
        "print(y_train[20])\n",
        "cv2_imshow(x_test[1])"
      ],
      "execution_count": null,
      "outputs": [
        {
          "output_type": "stream",
          "name": "stdout",
          "text": [
            "[  5.11932192 -68.31728035]\n"
          ]
        },
        {
          "output_type": "display_data",
          "data": {
            "image/png": "[encoded data removed]",
            "text/plain": [
              "<PIL.Image.Image image mode=RGB size=340x245 at 0x7F7B6E540490>"
            ]
          },
          "metadata": {}
        }
      ]
    },
    {
      "cell_type": "code",
      "metadata": {
        "id": "JRd0B9KfVmLY"
      },
      "source": [
        "def orb_feature_matching(img1, img2, n=10):\n",
        "    #test1=cv2.cvtColor(img1,cv2.COLOR_BGR2GRAY)\n",
        "    #test2=cv2.cvtColor(img2,cv2.COLOR_BGR2GRAY)\n",
        "    test1 = img1\n",
        "    test2 = img2\n",
        "    #sift = cv2.SIFT_create()\n",
        "    kp1, des1 = sift.detectAndCompute(img1, None)\n",
        "    kp2, des2 = sift.detectAndCompute(img2, None)\n",
        "    try:\n",
        "      matcher = cv2.DescriptorMatcher_create(cv2.DescriptorMatcher_FLANNBASED)\n",
        "      matches = matcher.knnMatch(des1, des2, k=2)\n",
        "    except:\n",
        "      return [],[]\n",
        "    good = []\n",
        "    #print(len(matches))\n",
        "    for match1, match2 in matches:\n",
        "        if match1.distance < 0.5 * match2.distance:\n",
        "            good.append([match1])\n",
        "            \n",
        "    \n",
        "    #img_matches = np.empty((max(img1.shape[0], img2.shape[0]), img1.shape[1]+img2.shape[1], 3), dtype=np.uint8)\n",
        "    if len(good) > 1:\n",
        "      result=cv2.drawMatchesKnn(test1,kp1,test2,kp2,good,None,[0,0,255],flags=2)\n",
        "      #cv2_imshow(result)\n",
        "      #cv2_imshow(img_matches)\n",
        "      \n",
        "      return result, good\n",
        "\n",
        "    return [],[]"
      ],
      "execution_count": null,
      "outputs": []
    },
    {
      "cell_type": "code",
      "metadata": {
        "id": "THPf7YrzVpPA"
      },
      "source": [
        "a,v = orb_feature_matching(x_train[0],x_train[55])\n"
      ],
      "execution_count": null,
      "outputs": []
    },
    {
      "cell_type": "markdown",
      "metadata": {
        "id": "kvVQL-kLpXyv"
      },
      "source": [
        "**Main predictions**"
      ]
    },
    {
      "cell_type": "code",
      "metadata": {
        "id": "zHcZrsA5e_RK"
      },
      "source": [
        "# Feature matching\n",
        "predictions = []\n",
        "counter = []\n",
        "for i in range(len(x_test)):\n",
        "  for j in range(math.floor(len(x_train))):\n",
        "    m , d = orb_feature_matching(x_test[i],x_train[j])\n",
        "    counter.append(len(d))\n",
        "  max_value = max(counter)\n",
        "  predictions.append(y_train[counter.index(max_value)])\n",
        "  #print(counter)\n",
        "  print(voter(counter))\n",
        "  counter = []\n"
      ],
      "execution_count": null,
      "outputs": []
    },
    {
      "cell_type": "code",
      "metadata": {
        "id": "i6flqXW1m2Th"
      },
      "source": [
        "#Majority voting prediction (not implemented yet)\n",
        "def voter(counter):\n",
        "  top = sorted(range(len(counter)), key=lambda x: counter[x])[-5:]\n",
        "  #for i in range(len(top)):\n",
        "  pred = []\n",
        "  for i in range(len(top)):\n",
        "    pred.append(y_train[top[i]])\n",
        "  return pred\n",
        "\n"
      ],
      "execution_count": null,
      "outputs": []
    },
    {
      "cell_type": "code",
      "metadata": {
        "id": "ZtjVBEwAgRpe",
        "colab": {
          "base_uri": "https://localhost:8080/"
        },
        "outputId": "9e861adb-7990-4d8f-e0d5-82f693c1df41"
      },
      "source": [
        "predictions"
      ],
      "execution_count": null,
      "outputs": [
        {
          "output_type": "execute_result",
          "data": {
            "text/plain": [
              "[array([  3.41932192, -69.11728035]), array([-95.48067808, 107.9827196 ])]"
            ]
          },
          "metadata": {},
          "execution_count": 20
        }
      ]
    },
    {
      "cell_type": "code",
      "metadata": {
        "colab": {
          "base_uri": "https://localhost:8080/"
        },
        "id": "YWsAeGQaFGJE",
        "outputId": "180fd320-8d86-4352-dc4b-5e72dd7d9a58"
      },
      "source": [
        "test_names"
      ],
      "execution_count": null,
      "outputs": [
        {
          "output_type": "execute_result",
          "data": {
            "text/plain": [
              "0       IMG4486_2\n",
              "1       IMG4475_4\n",
              "2       IMG4473_1\n",
              "3       IMG4497_1\n",
              "4       IMG4472_2\n",
              "          ...    \n",
              "1195    IMG4494_5\n",
              "1196    IMG4491_3\n",
              "1197    IMG4467_4\n",
              "1198    IMG4469_4\n",
              "1199    IMG4485_3\n",
              "Name: id, Length: 1200, dtype: object"
            ]
          },
          "metadata": {},
          "execution_count": 25
        }
      ]
    },
    {
      "cell_type": "code",
      "metadata": {
        "colab": {
          "base_uri": "https://localhost:8080/",
          "height": 35
        },
        "id": "UHoxJv9Vbflq",
        "outputId": "e47542bd-6280-4838-aec6-dc9c870fb382"
      },
      "source": [
        "import csv\n",
        "rowlist = [[\"id\",\"x\",\"y\"]]\n",
        "for i in range(len(predictions)):\n",
        "    rowlist.append([test_names[i],predictions[i][0],predictions[i][1]])\n",
        "\n",
        "with open('/content/drive/MyDrive/CV final assignment/pred1.csv', 'w') as file:\n",
        "    writer = csv.writer(file)\n",
        "    writer.writerows(rowlist)\n",
        "\n",
        "\"\"\"with open('/content/drive/MyDrive/CV final assignment/Example2.txt', 'w') as writefile:\n",
        "    writefile.write(\"Test file saving\")\"\"\""
      ],
      "execution_count": null,
      "outputs": [
        {
          "output_type": "execute_result",
          "data": {
            "application/vnd.google.colaboratory.intrinsic+json": {
              "type": "string"
            },
            "text/plain": [
              "'with open(\\'/content/drive/MyDrive/CV final assignment/Example2.txt\\', \\'w\\') as writefile:\\n    writefile.write(\"Test file saving\")'"
            ]
          },
          "metadata": {},
          "execution_count": 34
        }
      ]
    },
    {
      "cell_type": "code",
      "metadata": {
        "id": "ly7nOdoUnOXr"
      },
      "source": [
        "def manhattan_error(predicted,actual):\n",
        "  N = len(predicted)\n",
        "  sum = 0\n",
        "  for i in range(len(actual)):\n",
        "    sum += abs(actual[i][0] - predicted[i][0]) + abs(actual[i][1] - predicted[i][1])\n",
        "  \n",
        "  sum = sum/N\n",
        "\n",
        "  return sum"
      ],
      "execution_count": null,
      "outputs": []
    },
    {
      "cell_type": "code",
      "metadata": {
        "id": "ZYXYQpMZnTKx",
        "colab": {
          "base_uri": "https://localhost:8080/"
        },
        "outputId": "78270fdd-20ae-424d-9837-2e38f36016eb"
      },
      "source": [
        "print(manhattan_error(predictions,y_test))"
      ],
      "execution_count": null,
      "outputs": [
        {
          "output_type": "stream",
          "name": "stdout",
          "text": [
            "63.60499999610001\n"
          ]
        }
      ]
    },
    {
      "cell_type": "markdown",
      "metadata": {
        "id": "4sWt6cENpK2n"
      },
      "source": [
        "**Test code below here**"
      ]
    },
    {
      "cell_type": "code",
      "metadata": {
        "id": "buZna3t_cGSZ"
      },
      "source": [
        "match = []\n",
        "desc = []\n",
        "counter = []\n",
        "for i in range(len(x_train)):\n",
        "    check,feat = orb_feature_matching(x_test[0],x_train[i])\n",
        "    counter.append(len(feat))\n",
        "    if len(check)>0 and len(feat) >0:\n",
        "      match.append(check)\n",
        "      desc.append(feat)\n",
        "  \n",
        "  "
      ],
      "execution_count": null,
      "outputs": []
    },
    {
      "cell_type": "code",
      "metadata": {
        "id": "ULY0hGK-c-Nq",
        "colab": {
          "base_uri": "https://localhost:8080/"
        },
        "outputId": "015a426b-fe6d-4161-d72a-3fbec7614694"
      },
      "source": [
        "print(len(match))\n",
        "#print(desc[0])\n",
        "#print(len(desc[0]))\n",
        "descrip = []\n",
        "for i in range(len(desc)):\n",
        "  #print(i)\n",
        "  descrip.append(len(desc[i]))\n",
        "  #print(len(desc[i]))\n",
        "print(sorted(range(len(descrip)), key=lambda x: descrip[x])[-5:])\n",
        "top = sorted(range(len(counter)), key=lambda x: counter[x])[-5:]\n",
        "#cv2_imshow(match[55])\n",
        "#45 + 28 + 41\n",
        "#49 + 36 + 41\n",
        "#45 + 51 + 37\n",
        "#31 + 31 + 31"
      ],
      "execution_count": null,
      "outputs": [
        {
          "output_type": "stream",
          "name": "stdout",
          "text": [
            "0\n",
            "[]\n"
          ]
        }
      ]
    },
    {
      "cell_type": "code",
      "metadata": {
        "id": "7NJSI251aVCH"
      },
      "source": [
        "cv2_imshow(match[0])\n",
        "print(len(desc[0]))"
      ],
      "execution_count": null,
      "outputs": []
    },
    {
      "cell_type": "markdown",
      "metadata": {
        "id": "HF8Sp5Y32a5p"
      },
      "source": [
        ""
      ]
    },
    {
      "cell_type": "code",
      "metadata": {
        "colab": {
          "base_uri": "https://localhost:8080/",
          "height": 134
        },
        "id": "ibB-aEyJwp05",
        "outputId": "4fb7fc26-7466-4f81-fcdf-9c089685d411"
      },
      "source": [
        "cv2_imshow(x_test[1])\n",
        "print(y_train[-1])"
      ],
      "execution_count": null,
      "outputs": [
        {
          "output_type": "display_data",
          "data": {
            "image/png": "[encoded data removed]",
            "text/plain": [
              "<PIL.Image.Image image mode=RGB size=100x100 at 0x7F7B6E340B90>"
            ]
          },
          "metadata": {}
        },
        {
          "output_type": "stream",
          "name": "stdout",
          "text": [
            "[ 32.21932192 -25.91728035]\n"
          ]
        }
      ]
    },
    {
      "cell_type": "code",
      "metadata": {
        "colab": {
          "base_uri": "https://localhost:8080/"
        },
        "id": "G_RlU0BHxRew",
        "outputId": "ce90f390-2821-449c-80b5-e162dc05729d"
      },
      "source": [
        "len(x_train)"
      ],
      "execution_count": null,
      "outputs": [
        {
          "output_type": "execute_result",
          "data": {
            "text/plain": [
              "80"
            ]
          },
          "metadata": {},
          "execution_count": 56
        }
      ]
    },
    {
      "cell_type": "code",
      "metadata": {
        "colab": {
          "base_uri": "https://localhost:8080/",
          "height": 517
        },
        "id": "Uh9jrfhn03jY",
        "outputId": "49446c9a-dd44-456d-b170-cf460dbf0160"
      },
      "source": [
        "for i in range(len(top)):\n",
        "  cv2_imshow(x_train[top[i]])"
      ],
      "execution_count": null,
      "outputs": [
        {
          "output_type": "display_data",
          "data": {
            "image/png": "[encoded data removed]",
            "text/plain": [
              "<PIL.Image.Image image mode=RGB size=100x100 at 0x7F7B6E340950>"
            ]
          },
          "metadata": {}
        },
        {
          "output_type": "display_data",
          "data": {
            "image/png": "[encoded data removed]",
            "text/plain": [
              "<PIL.Image.Image image mode=RGB size=100x100 at 0x7F7B6E31AE10>"
            ]
          },
          "metadata": {}
        },
        {
          "output_type": "display_data",
          "data": {
            "image/png": "[encoded data removed]",
            "text/plain": [
              "<PIL.Image.Image image mode=RGB size=100x100 at 0x7F7B6E340F50>"
            ]
          },
          "metadata": {}
        },
        {
          "output_type": "display_data",
          "data": {
            "image/png": "[encoded data removed]",
            "text/plain": [
              "<PIL.Image.Image image mode=RGB size=100x100 at 0x7F7B6E340CD0>"
            ]
          },
          "metadata": {}
        },
        {
          "output_type": "display_data",
          "data": {
            "image/png": "[encoded data removed]",
            "text/plain": [
              "<PIL.Image.Image image mode=RGB size=100x100 at 0x7F7B6E340190>"
            ]
          },
          "metadata": {}
        }
      ]
    },
    {
      "cell_type": "code",
      "metadata": {
        "colab": {
          "base_uri": "https://localhost:8080/"
        },
        "id": "-lIwnQpj1Kox",
        "outputId": "404ef749-9847-4ccf-c59b-bec319a07cd5"
      },
      "source": [
        "for i in range(len(top)):\n",
        "  print(y_train[top[i]])"
      ],
      "execution_count": null,
      "outputs": [
        {
          "output_type": "stream",
          "name": "stdout",
          "text": [
            "[36.81932192  5.98271965]\n",
            "[ 35.11932192 -21.81728035]\n",
            "[  3.41932192 -69.11728035]\n",
            "[34.81932192  4.78271965]\n",
            "[43.51932192 12.48271965]\n"
          ]
        }
      ]
    },
    {
      "cell_type": "code",
      "metadata": {
        "colab": {
          "base_uri": "https://localhost:8080/"
        },
        "id": "N5_mCuZt1Qgn",
        "outputId": "ea5035d5-fcea-4396-84ac-952369e7f742"
      },
      "source": [
        "predictions"
      ],
      "execution_count": null,
      "outputs": [
        {
          "output_type": "execute_result",
          "data": {
            "text/plain": [
              "[array([  3.41932192, -69.11728035]),\n",
              " array([ 27.91932192, -76.41728035]),\n",
              " array([  3.41932192, -69.11728035]),\n",
              " array([-124.4806781,  113.0827196]),\n",
              " array([14.81932192, 32.78271965]),\n",
              " array([14.81932192, 32.78271965]),\n",
              " array([32.71932192,  5.28271965]),\n",
              " array([ 35.11932192, -21.81728035]),\n",
              " array([36.81932192,  5.98271965]),\n",
              " array([-124.4806781,  113.0827196]),\n",
              " array([ 1.81932192, 39.48271965]),\n",
              " array([-124.4806781,  113.0827196]),\n",
              " array([14.81932192, 32.78271965]),\n",
              " array([ 35.11932192, -21.81728035]),\n",
              " array([-124.4806781,  113.0827196]),\n",
              " array([  3.41932192, -69.11728035]),\n",
              " array([  3.41932192, -69.11728035]),\n",
              " array([14.81932192, 32.78271965]),\n",
              " array([34.81932192,  4.78271965])]"
            ]
          },
          "metadata": {},
          "execution_count": 99
        }
      ]
    },
    {
      "cell_type": "code",
      "metadata": {
        "colab": {
          "base_uri": "https://localhost:8080/"
        },
        "id": "U6GH9bBg1Mnb",
        "outputId": "24e50e31-d70a-49cb-f546-1d7e7a591dc5"
      },
      "source": [
        "y_train"
      ],
      "execution_count": null,
      "outputs": [
        {
          "output_type": "execute_result",
          "data": {
            "text/plain": [
              "array([[   3.41932192,  -69.11728035],\n",
              "       [   3.41932192,  -69.11728035],\n",
              "       [  14.41932192,   27.88271965],\n",
              "       [-156.6806781 ,   11.38271965],\n",
              "       [  14.41932192,   27.88271965],\n",
              "       [  22.11932192,  -70.61728035],\n",
              "       [ -95.08067808,   50.98271965],\n",
              "       [ -11.78067808,   27.48271965],\n",
              "       [   1.81932192,   39.48271965],\n",
              "       [   3.41932192,  -69.11728035],\n",
              "       [  11.71932192,   33.58271965],\n",
              "       [   1.81932192,   39.48271965],\n",
              "       [  11.71932192,   33.58271965],\n",
              "       [  44.51932192,    8.58271965],\n",
              "       [-111.8806781 ,  120.0827196 ],\n",
              "       [  44.51932192,    8.58271965],\n",
              "       [  44.51932192,    8.58271965],\n",
              "       [-124.4806781 ,  113.0827196 ],\n",
              "       [  27.91932192,  -76.41728035],\n",
              "       [  34.81932192,    4.78271965],\n",
              "       [   5.11932192,  -68.31728035],\n",
              "       [   5.11932192,  -68.31728035],\n",
              "       [  18.51932192,   27.28271965],\n",
              "       [ -85.58067808,  122.6827196 ],\n",
              "       [ -85.58067808,  122.6827196 ],\n",
              "       [-124.4806781 ,  113.0827196 ],\n",
              "       [  18.51932192,   27.28271965],\n",
              "       [-156.6806781 ,   11.38271965],\n",
              "       [  14.81932192,   32.78271965],\n",
              "       [  44.51932192,    8.58271965],\n",
              "       [   5.11932192,  -68.31728035],\n",
              "       [-124.4806781 ,  113.0827196 ],\n",
              "       [   5.11932192,  -68.31728035],\n",
              "       [-111.8806781 ,  120.0827196 ],\n",
              "       [-124.4806781 ,  113.0827196 ],\n",
              "       [-111.8806781 ,  120.0827196 ],\n",
              "       [-111.8806781 ,  120.0827196 ],\n",
              "       [  34.81932192,    4.78271965],\n",
              "       [  34.81932192,    4.78271965],\n",
              "       [  27.91932192,  -76.41728035],\n",
              "       [  27.91932192,  -76.41728035],\n",
              "       [ -85.58067808,  122.6827196 ],\n",
              "       [  14.81932192,   32.78271965],\n",
              "       [-111.8806781 ,  120.0827196 ],\n",
              "       [-124.4806781 ,  113.0827196 ],\n",
              "       [ -85.58067808,  122.6827196 ],\n",
              "       [ -85.58067808,  122.6827196 ],\n",
              "       [  44.51932192,    8.58271965],\n",
              "       [   5.11932192,  -68.31728035],\n",
              "       [  18.51932192,   27.28271965],\n",
              "       [  18.51932192,   27.28271965],\n",
              "       [  18.51932192,   27.28271965],\n",
              "       [-156.6806781 ,   11.38271965],\n",
              "       [  34.81932192,    4.78271965],\n",
              "       [  27.91932192,  -76.41728035],\n",
              "       [  27.91932192,  -76.41728035],\n",
              "       [  34.81932192,    4.78271965],\n",
              "       [  32.21932192,  -25.91728035],\n",
              "       [  35.11932192,  -21.81728035],\n",
              "       [  35.11932192,  -21.81728035],\n",
              "       [  43.51932192,   12.48271965],\n",
              "       [  36.81932192,    5.98271965],\n",
              "       [  46.71932192,  -65.71728035],\n",
              "       [  43.51932192,   12.48271965],\n",
              "       [  43.51932192,   12.48271965],\n",
              "       [  55.71932192,  -63.61728035],\n",
              "       [  43.51932192,   12.48271965],\n",
              "       [  32.71932192,    5.28271965],\n",
              "       [  36.81932192,    5.98271965],\n",
              "       [  32.71932192,    5.28271965],\n",
              "       [  32.71932192,    5.28271965],\n",
              "       [  55.71932192,  -63.61728035],\n",
              "       [  36.81932192,    5.98271965],\n",
              "       [  43.51932192,   12.48271965],\n",
              "       [  36.81932192,    5.98271965],\n",
              "       [-122.6806781 ,  114.1827196 ],\n",
              "       [  35.11932192,  -21.81728035],\n",
              "       [  14.81932192,   32.78271965],\n",
              "       [-122.6806781 ,  114.1827196 ],\n",
              "       [  55.71932192,  -63.61728035]])"
            ]
          },
          "metadata": {},
          "execution_count": 81
        }
      ]
    },
    {
      "cell_type": "code",
      "metadata": {
        "id": "l-CBgGKt5NaG"
      },
      "source": [
        ""
      ],
      "execution_count": null,
      "outputs": []
    }
  ]
}